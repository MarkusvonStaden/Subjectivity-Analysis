{
 "cells": [
  {
   "cell_type": "code",
   "execution_count": null,
   "metadata": {},
   "outputs": [],
   "source": [
    "from selenium import webdriver\n",
    "from selenium.webdriver.chrome.service import Service\n",
    "from selenium.webdriver.chrome.options import Options\n",
    "from selenium.webdriver.common.by import By\n",
    "from selenium.webdriver.support.ui import WebDriverWait\n",
    "from selenium.webdriver.support import expected_conditions as EC\n",
    "import json\n",
    "import os\n",
    "import time\n",
    "from concurrent.futures import ThreadPoolExecutor, as_completed"
   ]
  },
  {
   "cell_type": "code",
   "execution_count": null,
   "metadata": {},
   "outputs": [],
   "source": [
    "output_file = 'scraping_results.json'\n",
    "chrome_instances = 12"
   ]
  },
  {
   "cell_type": "code",
   "execution_count": null,
   "metadata": {},
   "outputs": [],
   "source": [
    "# Find element by looking for the headline, scroll element into view and wait for lazy-loading to complete\n",
    "def find_element(driver, text_to_find, wait_time):\n",
    "    element = driver.find_element(By.XPATH, f\"//*[text() = '{text_to_find}']\")\n",
    "    driver.execute_script(\"arguments[0].scrollIntoView();\", element)\n",
    "    time.sleep(wait_time)\n",
    "    element = driver.find_element(By.XPATH, f\"//*[text() = '{text_to_find}']\")\n",
    "    return element.find_element(By.XPATH, './../../../../..')\n",
    "\n",
    "def scrape_url(url):\n",
    "    chrome_options = Options()\n",
    "    chrome_options.add_argument(\"--disable-gpu\")\n",
    "    chrome_options.add_argument(\"--no-sandbox\")\n",
    "    chrome_options.add_argument(\"--disable-dev-shm-usage\")\n",
    "    chrome_options.add_argument(\"--lang=en\")\n",
    "    driver = webdriver.Chrome(options=chrome_options)\n",
    "\n",
    "    try:\n",
    "        driver.get(url)\n",
    "        time.sleep(3)\n",
    "        driver.implicitly_wait(10)\n",
    "\n",
    "        storyline = find_element(driver, 'Handlung', 5).text\n",
    "        review = find_element(driver, 'Rezension', 1).text\n",
    "\n",
    "        result = {'url': url,\n",
    "                  'storyline': storyline,\n",
    "                  'review': review}\n",
    "        \n",
    "    except:\n",
    "        result = {\n",
    "            'url': url,\n",
    "            'storyline': '',\n",
    "            'review': ''\n",
    "        }\n",
    "        \n",
    "    finally:\n",
    "        driver.quit()\n",
    "    \n",
    "    return result\n",
    "\n",
    "def save_result(result):\n",
    "    if os.path.exists(output_file):\n",
    "        with open(output_file, 'r+') as file:\n",
    "            data = json.load(file)\n",
    "            data.append(result)\n",
    "            file.seek(0)\n",
    "            json.dump(data, file, indent=4)\n",
    "    else:\n",
    "        with open(output_file, 'w') as file:\n",
    "            json.dump([result], file, indent=4)"
   ]
  },
  {
   "cell_type": "code",
   "execution_count": null,
   "metadata": {},
   "outputs": [],
   "source": [
    "len_results = 0\n",
    "\n",
    "# Load output file if exists and count contents to prevent duplicates\n",
    "if os.path.exists(output_file):\n",
    "    with open(output_file, 'r') as f:\n",
    "        scraping_results = json.load(f)\n",
    "        len_results = len(scraping_results)\n",
    "        print(f'Already scraped {len_results} movies')\n",
    "\n",
    "# Subsctract already scraped movies from index\n",
    "with open('urls.json', 'r') as f:\n",
    "    movies_old = json.load(f)\n",
    "    urls = [movie[0].split('?')[0] for movie in movies_old][len_results:]\n",
    "    print(f'Starting scraping for {len(urls)} movies')\n",
    "\n",
    "# Start parallel scraping\n",
    "with ThreadPoolExecutor(max_workers=chrome_instances) as executor:\n",
    "    future_to_url = {executor.submit(scrape_url, url): url for url in urls}\n",
    "    for future in as_completed(future_to_url):\n",
    "        url = future_to_url[future]\n",
    "        try:\n",
    "            result = future.result()\n",
    "            save_result(result)\n",
    "        except Exception as exc:\n",
    "            print(f'URL {url} generated an exception: {exc}')"
   ]
  }
 ],
 "metadata": {
  "kernelspec": {
   "display_name": "Python 3",
   "language": "python",
   "name": "python3"
  },
  "language_info": {
   "codemirror_mode": {
    "name": "ipython",
    "version": 3
   },
   "file_extension": ".py",
   "mimetype": "text/x-python",
   "name": "python",
   "nbconvert_exporter": "python",
   "pygments_lexer": "ipython3",
   "version": "3.12.4"
  }
 },
 "nbformat": 4,
 "nbformat_minor": 2
}
