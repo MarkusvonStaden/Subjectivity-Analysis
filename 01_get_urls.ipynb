{
 "cells": [
  {
   "cell_type": "code",
   "execution_count": null,
   "metadata": {},
   "outputs": [],
   "source": [
    "import json\n",
    "from selenium import webdriver\n",
    "from selenium.webdriver.common.by import By\n",
    "from selenium.webdriver.support.ui import WebDriverWait\n",
    "from selenium.webdriver.support import expected_conditions as EC"
   ]
  },
  {
   "cell_type": "code",
   "execution_count": null,
   "metadata": {},
   "outputs": [],
   "source": [
    "url = \"https://www.imdb.com/search/title/?num_votes=2500,\"\n",
    "\n",
    "driver = webdriver.Chrome()\n",
    "driver.get(url)\n",
    "\n",
    "driver.implicitly_wait(5)\n",
    "\n",
    "# Find button with text \"accept\" to get rid of the cookie banner\n",
    "cookie_button = driver.find_element(By.XPATH, \"//button[text()='Accept']\")\n",
    "cookie_button.click()\n",
    "\n",
    "# Store the data in a set to prevent duplicates\n",
    "data = set()"
   ]
  },
  {
   "cell_type": "code",
   "execution_count": null,
   "metadata": {},
   "outputs": [],
   "source": [
    "while (len(data) < 30000):\n",
    "\n",
    "    try:\n",
    "        # Get all movies\n",
    "        movies = driver.find_elements(By.CLASS_NAME, \"ipc-metadata-list-summary-item\")\n",
    "\n",
    "        # Extract the urls and description\n",
    "        for movie in movies:\n",
    "            url = movie.find_element(By.TAG_NAME, \"a\").get_attribute(\"href\")\n",
    "            description = movie.find_element(By.CLASS_NAME, \"ipc-html-content-inner-div\").text \n",
    "            data.add((url, description))\n",
    "        \n",
    "        # Convert urls to list and store them\n",
    "        data_list = list(data)\n",
    "        with open(\"urls.json\", \"w\") as f:\n",
    "            json.dump(data_list, f, ensure_ascii=False, indent=4)\n",
    "\n",
    "        # Wait until the \"50 mehr\" button is visible and clickable\n",
    "        button = WebDriverWait(driver, 15).until(\n",
    "            EC.element_to_be_clickable((By.XPATH, \"//button[.//span[@class='ipc-see-more__text' and text()='50 mehr']]\"))\n",
    "        )\n",
    "\n",
    "        # Scroll the button into view using JavaScript\n",
    "        driver.execute_script(\"arguments[0].scrollIntoView(true);\", button)\n",
    "        \n",
    "        # Click the button using JavaScript to bypass overlay issues, likley caused by anti-scrape-mechanisms\n",
    "        driver.execute_script(\"arguments[0].click();\", button)\n",
    "\n",
    "        print(len(data))\n",
    "\n",
    "    except Exception as e:\n",
    "        print(e)\n",
    "        continue\n",
    "\n",
    "driver.quit()"
   ]
  }
 ],
 "metadata": {
  "kernelspec": {
   "display_name": "Python 3",
   "language": "python",
   "name": "python3"
  },
  "language_info": {
   "codemirror_mode": {
    "name": "ipython",
    "version": 3
   },
   "file_extension": ".py",
   "mimetype": "text/x-python",
   "name": "python",
   "nbconvert_exporter": "python",
   "pygments_lexer": "ipython3",
   "version": "3.12.4"
  }
 },
 "nbformat": 4,
 "nbformat_minor": 2
}
